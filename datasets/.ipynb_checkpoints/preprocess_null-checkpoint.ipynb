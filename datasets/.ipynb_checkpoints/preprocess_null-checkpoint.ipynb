{
 "cells": [
  {
   "cell_type": "code",
   "execution_count": 1,
   "id": "bee6c855",
   "metadata": {},
   "outputs": [],
   "source": [
    "import pandas as pd"
   ]
  },
  {
   "cell_type": "code",
   "execution_count": 34,
   "id": "293bcb7f",
   "metadata": {},
   "outputs": [],
   "source": [
    "covid_deaths_df = pd.read_csv('covid_deaths.csv')\n",
    "covid_vaccinations_df = pd.read_csv('covid_vaccinations.csv')"
   ]
  },
  {
   "cell_type": "markdown",
   "id": "745d0723",
   "metadata": {},
   "source": [
    "Save as csv file"
   ]
  },
  {
   "cell_type": "code",
   "execution_count": 42,
   "id": "e77898d0",
   "metadata": {},
   "outputs": [],
   "source": [
    "covid_deaths_df.to_csv('covid_deaths.csv',index=True)\n",
    "covid_vaccinations_df.to_csv('covid_vaccinations.csv',index=True)"
   ]
  },
  {
   "cell_type": "code",
   "execution_count": null,
   "id": "126faf5f",
   "metadata": {},
   "outputs": [],
   "source": []
  },
  {
   "cell_type": "code",
   "execution_count": 43,
   "id": "7192cf8f",
   "metadata": {},
   "outputs": [],
   "source": [
    "covid_deaths_df.rename(columns={'Unnamed: 0': 'id'}, inplace=True)\n",
    "covid_vaccinations_df.rename(columns={'Unnamed: 0': 'id'}, inplace=True)"
   ]
  },
  {
   "cell_type": "code",
   "execution_count": 44,
   "id": "f99c3dc6",
   "metadata": {},
   "outputs": [],
   "source": [
    "covid_deaths_df.to_csv('covid_deaths.csv',index=False)\n",
    "covid_vaccinations_df.to_csv('covid_vaccinations.csv',index=False)"
   ]
  },
  {
   "cell_type": "code",
   "execution_count": 51,
   "id": "ab4ec4e2",
   "metadata": {},
   "outputs": [
    {
     "name": "stdout",
     "output_type": "stream",
     "text": [
      "<class 'pandas.core.frame.DataFrame'>\n",
      "RangeIndex: 85171 entries, 0 to 85170\n",
      "Data columns (total 27 columns):\n",
      " #   Column                              Non-Null Count  Dtype  \n",
      "---  ------                              --------------  -----  \n",
      " 0   id                                  85171 non-null  int64  \n",
      " 1   iso_code                            85171 non-null  object \n",
      " 2   continent                           81060 non-null  object \n",
      " 3   location                            85171 non-null  object \n",
      " 4   date                                85171 non-null  object \n",
      " 5   population                          84622 non-null  float64\n",
      " 6   total_cases                         83072 non-null  float64\n",
      " 7   new_cases                           83070 non-null  float64\n",
      " 8   new_cases_smoothed                  82069 non-null  float64\n",
      " 9   total_deaths                        73408 non-null  float64\n",
      " 10  new_deaths                          73566 non-null  float64\n",
      " 11  new_deaths_smoothed                 82069 non-null  float64\n",
      " 12  total_cases_per_million             82623 non-null  float64\n",
      " 13  new_cases_per_million               82621 non-null  float64\n",
      " 14  new_cases_smoothed_per_million      81625 non-null  float64\n",
      " 15  total_deaths_per_million            72972 non-null  float64\n",
      " 16  new_deaths_per_million              73130 non-null  float64\n",
      " 17  new_deaths_smoothed_per_million     81625 non-null  float64\n",
      " 18  reproduction_rate                   68942 non-null  float64\n",
      " 19  icu_patients                        8684 non-null   float64\n",
      " 20  icu_patients_per_million            8684 non-null   float64\n",
      " 21  hosp_patients                       10814 non-null  float64\n",
      " 22  hosp_patients_per_million           10814 non-null  float64\n",
      " 23  weekly_icu_admissions               789 non-null    float64\n",
      " 24  weekly_icu_admissions_per_million   789 non-null    float64\n",
      " 25  weekly_hosp_admissions              1295 non-null   float64\n",
      " 26  weekly_hosp_admissions_per_million  1295 non-null   float64\n",
      "dtypes: float64(22), int64(1), object(4)\n",
      "memory usage: 17.5+ MB\n"
     ]
    }
   ],
   "source": [
    "covid_deaths_df.info()"
   ]
  },
  {
   "cell_type": "code",
   "execution_count": null,
   "id": "9243d2cf",
   "metadata": {},
   "outputs": [],
   "source": []
  }
 ],
 "metadata": {
  "kernelspec": {
   "display_name": "Python 3 (ipykernel)",
   "language": "python",
   "name": "python3"
  },
  "language_info": {
   "codemirror_mode": {
    "name": "ipython",
    "version": 3
   },
   "file_extension": ".py",
   "mimetype": "text/x-python",
   "name": "python",
   "nbconvert_exporter": "python",
   "pygments_lexer": "ipython3",
   "version": "3.10.9"
  }
 },
 "nbformat": 4,
 "nbformat_minor": 5
}
